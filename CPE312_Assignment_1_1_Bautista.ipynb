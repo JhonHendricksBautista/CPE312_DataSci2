{
  "nbformat": 4,
  "nbformat_minor": 0,
  "metadata": {
    "colab": {
      "provenance": [],
      "authorship_tag": "ABX9TyMsNiqzNaO/nClgCG2X6T2p",
      "include_colab_link": true
    },
    "kernelspec": {
      "name": "python3",
      "display_name": "Python 3"
    },
    "language_info": {
      "name": "python"
    }
  },
  "cells": [
    {
      "cell_type": "markdown",
      "metadata": {
        "id": "view-in-github",
        "colab_type": "text"
      },
      "source": [
        "<a href=\"https://colab.research.google.com/github/JhonHendricksBautista/CPE312_DataSci2/blob/main/CPE312_Assignment_1_1_Bautista.ipynb\" target=\"_parent\"><img src=\"https://colab.research.google.com/assets/colab-badge.svg\" alt=\"Open In Colab\"/></a>"
      ]
    },
    {
      "cell_type": "markdown",
      "source": [
        "<font size = 6> Assignment 1.1 ML Tools, Process, and Your Learnings (CPE312) <br> </font>\n",
        "Name: Jhon Hendricks T. Bautista <br>\n",
        "Section: CPE31S3 <br>\n",
        "Instructor: Engr. Neal Matira <br>\n",
        "Date: 08/05/2025 <br>"
      ],
      "metadata": {
        "id": "7vzQ4wQ_lyFC"
      }
    },
    {
      "cell_type": "markdown",
      "source": [
        "## For the following questions, each group must submit one document (.pdf file) but every member must explicitly state their own answer per item. The submission document is basically just a compilation of your individual answers. 10 points per item.\n"
      ],
      "metadata": {
        "id": "AXqPjeLMly6J"
      }
    },
    {
      "cell_type": "markdown",
      "source": [
        "<font size = 5><b>1. Summarize the following:\n",
        " </font></b>\n"
      ],
      "metadata": {
        "id": "A6Q3Mipulym3"
      }
    },
    {
      "cell_type": "markdown",
      "source": [
        "## What is overfitting and underfitting? Provide examples."
      ],
      "metadata": {
        "id": "RN3TAvS6pLJS"
      }
    },
    {
      "cell_type": "markdown",
      "source": [
        "In machine learning not all the the time the model will work as intended and these phenomenon can be classified as underfitting or overfitting. For underfitting this can be seen as having high bias and low variance. As a result the model cannot generalize well because its does not see the underlying relationship in the dataset. On the hand, overfitting will have a low bias but high vairance. The model can give reliable predictions in the training data but will lose its reliabilty when given the test data or unseen data. This is because the model is fitting too much on the training data which causes to decrease it reliability in generalization."
      ],
      "metadata": {
        "id": "5eCtwyiUnTEJ"
      }
    },
    {
      "cell_type": "markdown",
      "source": [
        "## Define cross fold validation. How is it useful?"
      ],
      "metadata": {
        "id": "6eAfmOCypN2q"
      }
    },
    {
      "cell_type": "markdown",
      "source": [
        "In a cross fold validation is a method or process wherein in the validation stage, you split into k-number of folds in order to validate that the model works in every partition of the dataset."
      ],
      "metadata": {
        "id": "9iRACjqupiJh"
      }
    },
    {
      "cell_type": "markdown",
      "source": [
        "<font size = 5><b>2. Demonstrate data splitting for training and testing data. Using any preprocessing library in Python on the iris dataset provided in the module.</font></b>"
      ],
      "metadata": {
        "id": "dv7KSQF-nsgi"
      }
    },
    {
      "cell_type": "code",
      "source": [],
      "metadata": {
        "id": "LILIfsAan4KR"
      },
      "execution_count": null,
      "outputs": []
    },
    {
      "cell_type": "markdown",
      "source": [
        "<font size = 5><b>3. Provide a sample confusion matrix and demonstrate the computation of TP, FP, FN, TN. How can we derive accuracy of the model based on the previously mentioned metrics?</font></b>"
      ],
      "metadata": {
        "id": "Q-qNpjuwn3Vh"
      }
    }
  ]
}